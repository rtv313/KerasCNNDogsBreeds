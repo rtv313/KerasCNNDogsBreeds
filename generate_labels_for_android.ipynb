{
 "cells": [
  {
   "cell_type": "markdown",
   "metadata": {},
   "source": [
    "### Generate labels for Android"
   ]
  },
  {
   "cell_type": "code",
   "execution_count": 17,
   "metadata": {},
   "outputs": [],
   "source": [
    "import os\n",
    "from tensorflow.keras.preprocessing.image import ImageDataGenerator"
   ]
  },
  {
   "cell_type": "code",
   "execution_count": 18,
   "metadata": {},
   "outputs": [
    {
     "name": "stdout",
     "output_type": "stream",
     "text": [
      "Found 4162 images belonging to 120 classes.\n"
     ]
    }
   ],
   "source": [
    "image_gen = ImageDataGenerator()\n",
    "test_image_gen = image_gen.flow_from_directory('../DogsBreedsTrainingTestData/test',class_mode='categorical')"
   ]
  },
  {
   "cell_type": "code",
   "execution_count": 19,
   "metadata": {},
   "outputs": [],
   "source": [
    "os.remove(\"labels.txt\")\n",
    "file = open(\"labels.txt\", \"w\") \n",
    "for x in test_image_gen.class_indices.keys():\n",
    "    label = x[10:]\n",
    "    label = label.replace(\"_\",\" \")\n",
    "    label = label.title()\n",
    "    file.write(label+\"\\n\")\n",
    "file.close()"
   ]
  },
  {
   "cell_type": "code",
   "execution_count": null,
   "metadata": {},
   "outputs": [],
   "source": []
  }
 ],
 "metadata": {
  "kernelspec": {
   "display_name": "gputest",
   "language": "python",
   "name": "gputest"
  },
  "language_info": {
   "codemirror_mode": {
    "name": "ipython",
    "version": 3
   },
   "file_extension": ".py",
   "mimetype": "text/x-python",
   "name": "python",
   "nbconvert_exporter": "python",
   "pygments_lexer": "ipython3",
   "version": "3.7.7"
  }
 },
 "nbformat": 4,
 "nbformat_minor": 4
}
