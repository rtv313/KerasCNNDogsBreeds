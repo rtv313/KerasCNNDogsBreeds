{
 "cells": [
  {
   "cell_type": "markdown",
   "metadata": {},
   "source": [
    "### Exception CNN for identify dogs breeds "
   ]
  },
  {
   "cell_type": "markdown",
   "metadata": {},
   "source": [
    "#### Tutorial References \n",
    "* https://www.depends-on-the-definition.com/transfer-learning-for-dog-breed-identification/\n",
    "* http://machinememos.com/python/keras/artificial%20intelligence/machine%20learning/transfer%20learning/dog%20breed/neural%20networks/convolutional%20neural%20network/tensorflow/image%20classification/imagenet/2017/07/11/dog-breed-image-classification.html"
   ]
  },
  {
   "cell_type": "code",
   "execution_count": 1,
   "metadata": {},
   "outputs": [
    {
     "name": "stderr",
     "output_type": "stream",
     "text": [
      "Using TensorFlow backend.\n"
     ]
    },
    {
     "data": {
      "text/plain": [
       "'2.1.0'"
      ]
     },
     "execution_count": 1,
     "metadata": {},
     "output_type": "execute_result"
    }
   ],
   "source": [
    "import os\n",
    "import keras\n",
    "import datetime\n",
    "import numpy as np\n",
    "import tensorflow as tf\n",
    "import matplotlib.pyplot as plt\n",
    "\n",
    "from tqdm import tqdm_notebook\n",
    "from tensorflow.keras.preprocessing.image import ImageDataGenerator\n",
    "%matplotlib inline\n",
    "tf.__version__"
   ]
  },
  {
   "cell_type": "markdown",
   "metadata": {},
   "source": [
    "### Build Keras Model"
   ]
  },
  {
   "cell_type": "code",
   "execution_count": 2,
   "metadata": {},
   "outputs": [],
   "source": [
    "#base model\n",
    "image_shape = (224,224,3)\n",
    "base_model = tf.keras.applications.xception.Xception(weights='imagenet',\n",
    "                                                     include_top=False,\n",
    "                                                     input_shape=image_shape)\n",
    "# add a global spatial average pooling layer\n",
    "x = base_model.output\n",
    "x = tf.keras.layers.BatchNormalization()(x)\n",
    "x = tf.keras.layers.GlobalAveragePooling2D()(x)\n",
    "# let's add a fully-connected layer\n",
    "x = tf.keras.layers.Dropout(0.5)(x)\n",
    "x = tf.keras.layers.Dense(1024, activation='relu')(x)\n",
    "x = tf.keras.layers.Dropout(0.5)(x)\n",
    "# and a logistic layer -- let's say we have NUM_CLASSES classes\n",
    "predictions = tf.keras.layers.Dense(120, activation='softmax')(x)\n",
    "# this is the model we will train\n",
    "model = tf.keras.models.Model(inputs=base_model.input, outputs=predictions)"
   ]
  },
  {
   "cell_type": "markdown",
   "metadata": {},
   "source": [
    "### Freeze Base Model"
   ]
  },
  {
   "cell_type": "code",
   "execution_count": 3,
   "metadata": {},
   "outputs": [],
   "source": [
    "base_model.trainable = False"
   ]
  },
  {
   "cell_type": "markdown",
   "metadata": {},
   "source": [
    "### Compile Model"
   ]
  },
  {
   "cell_type": "code",
   "execution_count": 4,
   "metadata": {},
   "outputs": [],
   "source": [
    "model.compile(optimizer=tf.keras.optimizers.RMSprop(lr=0.001),\n",
    "              loss=\"categorical_crossentropy\",\n",
    "              metrics=[\"accuracy\"])"
   ]
  },
  {
   "cell_type": "markdown",
   "metadata": {},
   "source": [
    "### Create data flow for training"
   ]
  },
  {
   "cell_type": "code",
   "execution_count": 5,
   "metadata": {},
   "outputs": [],
   "source": [
    "image_gen_train = ImageDataGenerator(rotation_range=30, # rotate the image 30 degrees\n",
    "                               width_shift_range=0.1,\n",
    "                               height_shift_range=0.1,\n",
    "                               shear_range=0.2,\n",
    "                               zoom_range=0.2,\n",
    "                               preprocessing_function = tf.keras.applications.xception.preprocess_input,\n",
    "                               horizontal_flip=True, # Allow horizontal flipping\n",
    "                               fill_mode='nearest' # Fill in missing pixels with the nearest filled value\n",
    "                              )\n",
    "image_gen_val = ImageDataGenerator(preprocessing_function = tf.keras.applications.xception.preprocess_input,)"
   ]
  },
  {
   "cell_type": "code",
   "execution_count": 7,
   "metadata": {},
   "outputs": [
    {
     "name": "stdout",
     "output_type": "stream",
     "text": [
      "Found 16418 images belonging to 120 classes.\n",
      "Found 4162 images belonging to 120 classes.\n"
     ]
    }
   ],
   "source": [
    "batch_size = 130\n",
    "train_image_gen = image_gen_train.flow_from_directory('../DogsBreedsTrainingTestData/train',\n",
    "                                               batch_size=batch_size,\n",
    "                                               target_size=image_shape[:2],\n",
    "                                               class_mode='categorical')\n",
    "\n",
    "test_image_gen = image_gen_val.flow_from_directory('../DogsBreedsTrainingTestData/test',\n",
    "                                               target_size=image_shape[:2],\n",
    "                                               class_mode='categorical')"
   ]
  },
  {
   "cell_type": "markdown",
   "metadata": {},
   "source": [
    "### Create Early Stop and Checkpoints"
   ]
  },
  {
   "cell_type": "code",
   "execution_count": 8,
   "metadata": {},
   "outputs": [],
   "source": [
    "# Early stops detects when the model cant improve more and stops\n",
    "early_stopping = keras.callbacks.EarlyStopping(monitor='val_accuracy', patience=5)\n",
    "\n",
    "# Save best model during training in case of failure\n",
    "STAMP = \"{}_dog_breed_model\".format(datetime.date.today().strftime(\"%Y-%m-%d\"))\n",
    "bst_model_path = \"{}.h5\".format(STAMP)\n",
    "model_checkpoint = keras.callbacks.ModelCheckpoint(bst_model_path,\n",
    "                                                   save_best_only=True,\n",
    "                                                   save_weights_only=True,\n",
    "                                                   verbose=1,)"
   ]
  },
  {
   "cell_type": "markdown",
   "metadata": {},
   "source": [
    "### Train Model"
   ]
  },
  {
   "cell_type": "code",
   "execution_count": 9,
   "metadata": {},
   "outputs": [
    {
     "name": "stdout",
     "output_type": "stream",
     "text": [
      "WARNING:tensorflow:From <ipython-input-9-94c85b0d61c9>:5: Model.fit_generator (from tensorflow.python.keras.engine.training) is deprecated and will be removed in a future version.\n",
      "Instructions for updating:\n",
      "Please use Model.fit, which supports generators.\n",
      "WARNING:tensorflow:sample_weight modes were coerced from\n",
      "  ...\n",
      "    to  \n",
      "  ['...']\n",
      "WARNING:tensorflow:sample_weight modes were coerced from\n",
      "  ...\n",
      "    to  \n",
      "  ['...']\n",
      "Train for 127 steps, validate for 131 steps\n",
      "Epoch 1/50\n",
      "126/127 [============================>.] - ETA: 6s - loss: 2.3094 - accuracy: 0.4560 \n",
      "Epoch 00001: val_loss improved from inf to 0.80667, saving model to 2020-05-19_dog_breed_model.h5\n",
      "127/127 [==============================] - 948s 7s/step - loss: 2.3088 - accuracy: 0.4561 - val_loss: 0.8067 - val_accuracy: 0.7669\n",
      "Epoch 2/50\n",
      "126/127 [============================>.] - ETA: 2s - loss: 1.6485 - accuracy: 0.5875\n",
      "Epoch 00002: val_loss did not improve from 0.80667\n",
      "127/127 [==============================] - 390s 3s/step - loss: 1.6507 - accuracy: 0.5873 - val_loss: 0.9526 - val_accuracy: 0.7785\n",
      "Epoch 3/50\n",
      "126/127 [============================>.] - ETA: 2s - loss: 1.5536 - accuracy: 0.6090\n",
      "Epoch 00003: val_loss did not improve from 0.80667\n",
      "127/127 [==============================] - 385s 3s/step - loss: 1.5538 - accuracy: 0.6091 - val_loss: 1.0890 - val_accuracy: 0.7765\n",
      "Epoch 4/50\n",
      "126/127 [============================>.] - ETA: 2s - loss: 1.4388 - accuracy: 0.6273\n",
      "Epoch 00004: val_loss did not improve from 0.80667\n",
      "127/127 [==============================] - 362s 3s/step - loss: 1.4388 - accuracy: 0.6274 - val_loss: 1.1317 - val_accuracy: 0.7809\n",
      "Epoch 5/50\n",
      "126/127 [============================>.] - ETA: 2s - loss: 1.3943 - accuracy: 0.6310\n",
      "Epoch 00005: val_loss did not improve from 0.80667\n",
      "127/127 [==============================] - 384s 3s/step - loss: 1.3917 - accuracy: 0.6317 - val_loss: 1.1458 - val_accuracy: 0.7751\n",
      "Epoch 6/50\n",
      "126/127 [============================>.] - ETA: 2s - loss: 1.3405 - accuracy: 0.6441\n",
      "Epoch 00006: val_loss did not improve from 0.80667\n",
      "127/127 [==============================] - 383s 3s/step - loss: 1.3386 - accuracy: 0.6444 - val_loss: 1.1747 - val_accuracy: 0.7794\n",
      "Epoch 7/50\n",
      "126/127 [============================>.] - ETA: 2s - loss: 1.2953 - accuracy: 0.6528\n",
      "Epoch 00007: val_loss did not improve from 0.80667\n",
      "127/127 [==============================] - 385s 3s/step - loss: 1.2959 - accuracy: 0.6526 - val_loss: 1.1896 - val_accuracy: 0.7821\n",
      "Epoch 8/50\n",
      "126/127 [============================>.] - ETA: 2s - loss: 1.2781 - accuracy: 0.6604\n",
      "Epoch 00008: val_loss did not improve from 0.80667\n",
      "127/127 [==============================] - 387s 3s/step - loss: 1.2789 - accuracy: 0.6601 - val_loss: 1.1944 - val_accuracy: 0.7835\n",
      "Epoch 9/50\n",
      "126/127 [============================>.] - ETA: 2s - loss: 1.2784 - accuracy: 0.6610\n",
      "Epoch 00009: val_loss did not improve from 0.80667\n",
      "127/127 [==============================] - 385s 3s/step - loss: 1.2781 - accuracy: 0.6609 - val_loss: 1.1731 - val_accuracy: 0.7862\n",
      "Epoch 10/50\n",
      "126/127 [============================>.] - ETA: 2s - loss: 1.2403 - accuracy: 0.6637\n",
      "Epoch 00010: val_loss did not improve from 0.80667\n",
      "127/127 [==============================] - 373s 3s/step - loss: 1.2402 - accuracy: 0.6639 - val_loss: 1.2655 - val_accuracy: 0.7823\n",
      "Epoch 11/50\n",
      "126/127 [============================>.] - ETA: 2s - loss: 1.2610 - accuracy: 0.6631\n",
      "Epoch 00011: val_loss did not improve from 0.80667\n",
      "127/127 [==============================] - 370s 3s/step - loss: 1.2604 - accuracy: 0.6633 - val_loss: 1.2639 - val_accuracy: 0.7818\n",
      "Epoch 12/50\n",
      "126/127 [============================>.] - ETA: 2s - loss: 1.2396 - accuracy: 0.6717\n",
      "Epoch 00012: val_loss did not improve from 0.80667\n",
      "127/127 [==============================] - 363s 3s/step - loss: 1.2390 - accuracy: 0.6724 - val_loss: 1.2825 - val_accuracy: 0.7797\n",
      "Epoch 13/50\n",
      "126/127 [============================>.] - ETA: 2s - loss: 1.2305 - accuracy: 0.6760\n",
      "Epoch 00013: val_loss did not improve from 0.80667\n",
      "127/127 [==============================] - 373s 3s/step - loss: 1.2359 - accuracy: 0.6752 - val_loss: 1.2607 - val_accuracy: 0.7833\n",
      "Epoch 14/50\n",
      "126/127 [============================>.] - ETA: 2s - loss: 1.2310 - accuracy: 0.6700\n",
      "Epoch 00014: val_loss did not improve from 0.80667\n",
      "127/127 [==============================] - 379s 3s/step - loss: 1.2306 - accuracy: 0.6699 - val_loss: 1.2977 - val_accuracy: 0.7799\n"
     ]
    }
   ],
   "source": [
    "epochs = 50\n",
    "results = model.fit_generator(train_image_gen,\n",
    "                              epochs=epochs,\n",
    "                              validation_data=test_image_gen,\n",
    "                              callbacks=[early_stopping, model_checkpoint])"
   ]
  },
  {
   "cell_type": "code",
   "execution_count": 10,
   "metadata": {},
   "outputs": [
    {
     "name": "stdout",
     "output_type": "stream",
     "text": [
      "WARNING:tensorflow:From <ipython-input-10-a16778e85e44>:1: Model.evaluate_generator (from tensorflow.python.keras.engine.training) is deprecated and will be removed in a future version.\n",
      "Instructions for updating:\n",
      "Please use Model.evaluate, which supports generators.\n",
      "WARNING:tensorflow:sample_weight modes were coerced from\n",
      "  ...\n",
      "    to  \n",
      "  ['...']\n"
     ]
    }
   ],
   "source": [
    "valid_loss, valid_accuracy = model.evaluate_generator(test_image_gen)"
   ]
  },
  {
   "cell_type": "code",
   "execution_count": 11,
   "metadata": {},
   "outputs": [
    {
     "name": "stdout",
     "output_type": "stream",
     "text": [
      "Accuracy after transfer learning: 0.7799134850502014\n"
     ]
    }
   ],
   "source": [
    "print(\"Accuracy after transfer learning: {}\".format(valid_accuracy))"
   ]
  },
  {
   "cell_type": "code",
   "execution_count": 12,
   "metadata": {},
   "outputs": [],
   "source": [
    "tf.keras.models.save_model(model, 'model_final_cnn_pre_fine_tuning.h5')"
   ]
  },
  {
   "cell_type": "markdown",
   "metadata": {},
   "source": [
    "### Set point parameters"
   ]
  },
  {
   "cell_type": "markdown",
   "metadata": {},
   "source": [
    "#### Unfreeze superior layers"
   ]
  },
  {
   "cell_type": "code",
   "execution_count": 13,
   "metadata": {},
   "outputs": [],
   "source": [
    "base_model.trainable = True"
   ]
  },
  {
   "cell_type": "code",
   "execution_count": 14,
   "metadata": {},
   "outputs": [
    {
     "name": "stdout",
     "output_type": "stream",
     "text": [
      "Number of layersin the base model: 132\n"
     ]
    }
   ],
   "source": [
    "print(\"Number of layersin the base model: {}\".format(len(base_model.layers)))"
   ]
  },
  {
   "cell_type": "code",
   "execution_count": 15,
   "metadata": {},
   "outputs": [],
   "source": [
    "# we chose to train the top 2 xception blocks, i.e. we will freeze\n",
    "# the first 116 layers and unfreeze the rest:\n",
    "for layer in model.layers[:116]:\n",
    "    layer.trainable = False\n",
    "for layer in model.layers[116:]:\n",
    "    layer.trainable = True"
   ]
  },
  {
   "cell_type": "code",
   "execution_count": 16,
   "metadata": {},
   "outputs": [],
   "source": [
    "model.compile(optimizer=tf.keras.optimizers.SGD(lr=0.0001, momentum=0.9), \n",
    "              loss=\"categorical_crossentropy\", \n",
    "              metrics=[\"accuracy\"])"
   ]
  },
  {
   "cell_type": "markdown",
   "metadata": {},
   "source": [
    "### Train Set Point model"
   ]
  },
  {
   "cell_type": "code",
   "execution_count": 17,
   "metadata": {},
   "outputs": [
    {
     "name": "stdout",
     "output_type": "stream",
     "text": [
      "WARNING:tensorflow:sample_weight modes were coerced from\n",
      "  ...\n",
      "    to  \n",
      "  ['...']\n",
      "WARNING:tensorflow:sample_weight modes were coerced from\n",
      "  ...\n",
      "    to  \n",
      "  ['...']\n",
      "Train for 127 steps, validate for 131 steps\n",
      "Epoch 1/30\n",
      "127/127 [==============================] - 399s 3s/step - loss: 1.1521 - accuracy: 0.6870 - val_loss: 1.1458 - val_accuracy: 0.7924\n",
      "Epoch 2/30\n",
      "127/127 [==============================] - 380s 3s/step - loss: 1.1203 - accuracy: 0.6925 - val_loss: 1.0389 - val_accuracy: 0.7924\n",
      "Epoch 3/30\n",
      "127/127 [==============================] - 387s 3s/step - loss: 1.1325 - accuracy: 0.6901 - val_loss: 0.9419 - val_accuracy: 0.7919\n",
      "Epoch 4/30\n",
      "127/127 [==============================] - 386s 3s/step - loss: 1.1108 - accuracy: 0.6970 - val_loss: 0.8940 - val_accuracy: 0.7929\n",
      "Epoch 5/30\n",
      "127/127 [==============================] - 386s 3s/step - loss: 1.0897 - accuracy: 0.6999 - val_loss: 0.8792 - val_accuracy: 0.7917\n",
      "Epoch 6/30\n",
      "127/127 [==============================] - 381s 3s/step - loss: 1.1048 - accuracy: 0.6967 - val_loss: 0.8711 - val_accuracy: 0.7912\n",
      "Epoch 7/30\n",
      "127/127 [==============================] - 380s 3s/step - loss: 1.0812 - accuracy: 0.7033 - val_loss: 0.8605 - val_accuracy: 0.7912\n",
      "Epoch 8/30\n",
      "127/127 [==============================] - 382s 3s/step - loss: 1.0810 - accuracy: 0.7013 - val_loss: 0.8584 - val_accuracy: 0.7926\n",
      "Epoch 9/30\n",
      "127/127 [==============================] - 383s 3s/step - loss: 1.0526 - accuracy: 0.7074 - val_loss: 0.8542 - val_accuracy: 0.7931\n",
      "Epoch 10/30\n",
      "127/127 [==============================] - 379s 3s/step - loss: 1.0603 - accuracy: 0.7096 - val_loss: 0.8492 - val_accuracy: 0.7929\n",
      "Epoch 11/30\n",
      "127/127 [==============================] - 379s 3s/step - loss: 1.0654 - accuracy: 0.7086 - val_loss: 0.8456 - val_accuracy: 0.7929\n",
      "Epoch 12/30\n",
      "127/127 [==============================] - 380s 3s/step - loss: 1.0548 - accuracy: 0.7042 - val_loss: 0.8444 - val_accuracy: 0.7938\n",
      "Epoch 13/30\n",
      "127/127 [==============================] - 381s 3s/step - loss: 1.0469 - accuracy: 0.7064 - val_loss: 0.8422 - val_accuracy: 0.7931\n",
      "Epoch 14/30\n",
      "127/127 [==============================] - 390s 3s/step - loss: 1.0191 - accuracy: 0.7115 - val_loss: 0.8382 - val_accuracy: 0.7938\n",
      "Epoch 15/30\n",
      "127/127 [==============================] - 385s 3s/step - loss: 1.0246 - accuracy: 0.7125 - val_loss: 0.8354 - val_accuracy: 0.7951\n",
      "Epoch 16/30\n",
      "127/127 [==============================] - 385s 3s/step - loss: 1.0273 - accuracy: 0.7116 - val_loss: 0.8311 - val_accuracy: 0.7934\n",
      "Epoch 17/30\n",
      "127/127 [==============================] - 391s 3s/step - loss: 1.0339 - accuracy: 0.7116 - val_loss: 0.8299 - val_accuracy: 0.7936\n",
      "Epoch 18/30\n",
      "127/127 [==============================] - 389s 3s/step - loss: 1.0252 - accuracy: 0.7142 - val_loss: 0.8285 - val_accuracy: 0.7938\n",
      "Epoch 19/30\n",
      "127/127 [==============================] - 391s 3s/step - loss: 1.0297 - accuracy: 0.7101 - val_loss: 0.8242 - val_accuracy: 0.7946\n",
      "Epoch 20/30\n",
      "127/127 [==============================] - 384s 3s/step - loss: 1.0307 - accuracy: 0.7079 - val_loss: 0.8238 - val_accuracy: 0.7934\n"
     ]
    }
   ],
   "source": [
    "epochs = 30\n",
    "hist_tune = model.fit_generator(train_image_gen,epochs=epochs,\n",
    "                    validation_data=test_image_gen,\n",
    "                    callbacks=[early_stopping])"
   ]
  },
  {
   "cell_type": "code",
   "execution_count": 18,
   "metadata": {},
   "outputs": [
    {
     "name": "stdout",
     "output_type": "stream",
     "text": [
      "WARNING:tensorflow:sample_weight modes were coerced from\n",
      "  ...\n",
      "    to  \n",
      "  ['...']\n"
     ]
    }
   ],
   "source": [
    "valid_loss, valid_accuracy = model.evaluate_generator(test_image_gen)"
   ]
  },
  {
   "cell_type": "code",
   "execution_count": 19,
   "metadata": {},
   "outputs": [
    {
     "name": "stdout",
     "output_type": "stream",
     "text": [
      "Validation accuracy after fine tuning: 0.7933685779571533\n"
     ]
    }
   ],
   "source": [
    "print(\"Validation accuracy after fine tuning: {}\".format(valid_accuracy))"
   ]
  },
  {
   "cell_type": "markdown",
   "metadata": {},
   "source": [
    "### Save model with fine tuning"
   ]
  },
  {
   "cell_type": "code",
   "execution_count": 20,
   "metadata": {},
   "outputs": [],
   "source": [
    "model_name = 'dogs_breeds_cnn_fine_tuning.h5'\n",
    "tf.keras.models.save_model(model, model_name)"
   ]
  },
  {
   "cell_type": "markdown",
   "metadata": {},
   "source": [
    "### Plot Models Pre Fine Tuning"
   ]
  },
  {
   "cell_type": "code",
   "execution_count": 21,
   "metadata": {},
   "outputs": [
    {
     "data": {
      "text/plain": [
       "[<matplotlib.lines.Line2D at 0x2b7032c7108>]"
      ]
     },
     "execution_count": 21,
     "metadata": {},
     "output_type": "execute_result"
    },
    {
     "data": {
      "image/png": "[encoded data removed]",
      "text/plain": [
       "<Figure size 432x288 with 1 Axes>"
      ]
     },
     "metadata": {
      "needs_background": "light"
     },
     "output_type": "display_data"
    }
   ],
   "source": [
    "plt.plot(results.history['accuracy'])"
   ]
  },
  {
   "cell_type": "code",
   "execution_count": 22,
   "metadata": {},
   "outputs": [
    {
     "data": {
      "text/plain": [
       "[<matplotlib.lines.Line2D at 0x2b703303bc8>]"
      ]
     },
     "execution_count": 22,
     "metadata": {},
     "output_type": "execute_result"
    },
    {
     "data": {
      "image/png": "[encoded data removed]",
      "text/plain": [
       "<Figure size 432x288 with 1 Axes>"
      ]
     },
     "metadata": {
      "needs_background": "light"
     },
     "output_type": "display_data"
    }
   ],
   "source": [
    "plt.plot(results.history['val_accuracy'])"
   ]
  },
  {
   "cell_type": "markdown",
   "metadata": {},
   "source": [
    "### Plot Models Post Fine Tuning"
   ]
  },
  {
   "cell_type": "code",
   "execution_count": 23,
   "metadata": {},
   "outputs": [
    {
     "data": {
      "text/plain": [
       "[<matplotlib.lines.Line2D at 0x2b703374dc8>]"
      ]
     },
     "execution_count": 23,
     "metadata": {},
     "output_type": "execute_result"
    },
    {
     "data": {
      "image/png": "[encoded data removed]",
      "text/plain": [
       "<Figure size 432x288 with 1 Axes>"
      ]
     },
     "metadata": {
      "needs_background": "light"
     },
     "output_type": "display_data"
    }
   ],
   "source": [
    "plt.plot(hist_tune.history['accuracy'])"
   ]
  },
  {
   "cell_type": "code",
   "execution_count": 24,
   "metadata": {},
   "outputs": [
    {
     "data": {
      "text/plain": [
       "[<matplotlib.lines.Line2D at 0x2b7033dee48>]"
      ]
     },
     "execution_count": 24,
     "metadata": {},
     "output_type": "execute_result"
    },
    {
     "data": {
      "image/png": "[encoded data removed]",
      "text/plain": [
       "<Figure size 432x288 with 1 Axes>"
      ]
     },
     "metadata": {
      "needs_background": "light"
     },
     "output_type": "display_data"
    }
   ],
   "source": [
    "plt.plot(hist_tune.history['val_accuracy'])"
   ]
  },
  {
   "cell_type": "code",
   "execution_count": null,
   "metadata": {},
   "outputs": [],
   "source": []
  }
 ],
 "metadata": {
  "kernelspec": {
   "display_name": "gputest",
   "language": "python",
   "name": "gputest"
  },
  "language_info": {
   "codemirror_mode": {
    "name": "ipython",
    "version": 3
   },
   "file_extension": ".py",
   "mimetype": "text/x-python",
   "name": "python",
   "nbconvert_exporter": "python",
   "pygments_lexer": "ipython3",
   "version": "3.7.7"
  }
 },
 "nbformat": 4,
 "nbformat_minor": 4
}
